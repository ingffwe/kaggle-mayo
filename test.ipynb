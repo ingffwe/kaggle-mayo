{
 "cells": [
  {
   "cell_type": "code",
   "execution_count": 16,
   "outputs": [],
   "source": [
    "import os\n",
    "import gc\n",
    "import cv2\n",
    "import copy\n",
    "import time\n",
    "import torch\n",
    "import random\n",
    "import string\n",
    "import joblib\n",
    "import tifffile\n",
    "import numpy as np\n",
    "import pandas as pd\n",
    "import torch.nn as nn\n",
    "import seaborn as sns\n",
    "from random import randint\n",
    "from einops import rearrange\n",
    "from torchvision import models\n",
    "from tqdm.notebook import tqdm\n",
    "import matplotlib.pyplot as plt\n",
    "from torch.optim import lr_scheduler\n",
    "from einops.layers.torch import Rearrange\n",
    "from efficientnet_pytorch import EfficientNet\n",
    "from torch.utils.data import Dataset, DataLoader\n",
    "from sklearn.model_selection import train_test_split,train_test_split\n",
    "import warnings; warnings.filterwarnings(\"ignore\")\n",
    "from sklearn.model_selection import StratifiedKFold # Sklearn\n"
   ],
   "metadata": {
    "collapsed": false,
    "pycharm": {
     "name": "#%%\n"
    }
   }
  },
  {
   "cell_type": "code",
   "execution_count": 95,
   "metadata": {
    "collapsed": true
   },
   "outputs": [
    {
     "data": {
      "text/plain": "       image_id center_id  target\n0    006388_0_0        11  006388\n1    008e5c_0_0        11  008e5c\n2    00c058_0_0        11  00c058\n3    01adc5_0_0        11  01adc5\n4    026c97_0_0         4  026c97\n..          ...       ...     ...\n749  fe9645_0_0         3  fe9645\n750  fe9bec_0_0         4  fe9bec\n751  ff14e0_0_0         6  ff14e0\n752  ffec5c_0_0         7  ffec5c\n753  ffec5c_1_0         7  ffec5c\n\n[754 rows x 3 columns]",
      "text/html": "<div>\n<style scoped>\n    .dataframe tbody tr th:only-of-type {\n        vertical-align: middle;\n    }\n\n    .dataframe tbody tr th {\n        vertical-align: top;\n    }\n\n    .dataframe thead th {\n        text-align: right;\n    }\n</style>\n<table border=\"1\" class=\"dataframe\">\n  <thead>\n    <tr style=\"text-align: right;\">\n      <th></th>\n      <th>image_id</th>\n      <th>center_id</th>\n      <th>target</th>\n    </tr>\n  </thead>\n  <tbody>\n    <tr>\n      <th>0</th>\n      <td>006388_0_0</td>\n      <td>11</td>\n      <td>006388</td>\n    </tr>\n    <tr>\n      <th>1</th>\n      <td>008e5c_0_0</td>\n      <td>11</td>\n      <td>008e5c</td>\n    </tr>\n    <tr>\n      <th>2</th>\n      <td>00c058_0_0</td>\n      <td>11</td>\n      <td>00c058</td>\n    </tr>\n    <tr>\n      <th>3</th>\n      <td>01adc5_0_0</td>\n      <td>11</td>\n      <td>01adc5</td>\n    </tr>\n    <tr>\n      <th>4</th>\n      <td>026c97_0_0</td>\n      <td>4</td>\n      <td>026c97</td>\n    </tr>\n    <tr>\n      <th>...</th>\n      <td>...</td>\n      <td>...</td>\n      <td>...</td>\n    </tr>\n    <tr>\n      <th>749</th>\n      <td>fe9645_0_0</td>\n      <td>3</td>\n      <td>fe9645</td>\n    </tr>\n    <tr>\n      <th>750</th>\n      <td>fe9bec_0_0</td>\n      <td>4</td>\n      <td>fe9bec</td>\n    </tr>\n    <tr>\n      <th>751</th>\n      <td>ff14e0_0_0</td>\n      <td>6</td>\n      <td>ff14e0</td>\n    </tr>\n    <tr>\n      <th>752</th>\n      <td>ffec5c_0_0</td>\n      <td>7</td>\n      <td>ffec5c</td>\n    </tr>\n    <tr>\n      <th>753</th>\n      <td>ffec5c_1_0</td>\n      <td>7</td>\n      <td>ffec5c</td>\n    </tr>\n  </tbody>\n</table>\n<p>754 rows × 3 columns</p>\n</div>"
     },
     "execution_count": 95,
     "metadata": {},
     "output_type": "execute_result"
    }
   ],
   "source": [
    "train_df = pd.read_csv(\"../input/mayo-clinic-strip-ai/train.csv\")\n",
    "# skf = StratifiedKFold(n_splits=4, shuffle=True, random_state=42)\n",
    "# for fold,(train_idx, val_idx) in enumerate(skf.split(train_df.image_id, train_df.label)):\n",
    "#     # train_df.loc[val_idx, 'fold'] = fold\n",
    "#     print(train_df.loc[train_idx])\n",
    "#     # print(val_idx)\n",
    "# train, val = train_test_split(train_df, test_size=0.2, random_state=42, stratify = train_df.label)\n",
    "# print(train)\n",
    "# print(val)\n",
    "\n",
    "train_df.loc[:,'target']=0\n",
    "idx = train_df.query('label==\"LAA\"').index\n",
    "train_df.loc[idx,'target'] = 1\n",
    "train_df\n",
    "tiled_img = []\n",
    "i=0\n",
    "for arr in train_df.sort_values(['image_id','center_id','target']).values:\n",
    "    tiled_img.append([arr[0]+f'_{i}', arr[1], arr[2]])\n",
    "\n",
    "df = pd.DataFrame(columns=['image_id','center_id','target'])\n",
    "df = pd.concat([df,pd.DataFrame(tiled_img,columns=df.columns)])\n",
    "df"
   ]
  },
  {
   "cell_type": "code",
   "execution_count": 56,
   "outputs": [
    {
     "data": {
      "text/plain": "  patient_id   CE  LAA\n0     006388  0.5  0.5\n1     008e5c  0.5  0.5\n2     00c058  0.5  0.5\n3     01adc5  0.5  0.5",
      "text/html": "<div>\n<style scoped>\n    .dataframe tbody tr th:only-of-type {\n        vertical-align: middle;\n    }\n\n    .dataframe tbody tr th {\n        vertical-align: top;\n    }\n\n    .dataframe thead th {\n        text-align: right;\n    }\n</style>\n<table border=\"1\" class=\"dataframe\">\n  <thead>\n    <tr style=\"text-align: right;\">\n      <th></th>\n      <th>patient_id</th>\n      <th>CE</th>\n      <th>LAA</th>\n    </tr>\n  </thead>\n  <tbody>\n    <tr>\n      <th>0</th>\n      <td>006388</td>\n      <td>0.5</td>\n      <td>0.5</td>\n    </tr>\n    <tr>\n      <th>1</th>\n      <td>008e5c</td>\n      <td>0.5</td>\n      <td>0.5</td>\n    </tr>\n    <tr>\n      <th>2</th>\n      <td>00c058</td>\n      <td>0.5</td>\n      <td>0.5</td>\n    </tr>\n    <tr>\n      <th>3</th>\n      <td>01adc5</td>\n      <td>0.5</td>\n      <td>0.5</td>\n    </tr>\n  </tbody>\n</table>\n</div>"
     },
     "execution_count": 56,
     "metadata": {},
     "output_type": "execute_result"
    }
   ],
   "source": [
    "import pandas as pd\n",
    "df = pd.read_csv('../input/mayo-clinic-strip-ai/sample_submission.csv')\n",
    "tiled_img = []\n",
    "for i in range(16):\n",
    "    for arr in df.sort_values(['patient_id','CE','LAA']).values:\n",
    "        tiled_img.append([arr[0]+f'_{i}', arr[1], arr[2]])\n",
    "\n",
    "df_concat = pd.DataFrame(columns=['patient_id','CE','LAA'])\n",
    "df_concat = pd.concat([df_concat,pd.DataFrame(tiled_img,columns=df.columns)])\n",
    "df.head()"
   ],
   "metadata": {
    "collapsed": false,
    "pycharm": {
     "name": "#%%\n"
    }
   }
  },
  {
   "cell_type": "code",
   "execution_count": 59,
   "outputs": [
    {
     "data": {
      "text/plain": "             CE  LAA\npatient_id          \n006388_0    0.5  0.5\n006388_1    0.5  0.5\n006388_10   0.5  0.5\n006388_11   0.5  0.5\n006388_12   0.5  0.5\n...         ...  ...\n01adc5_5    0.5  0.5\n01adc5_6    0.5  0.5\n01adc5_7    0.5  0.5\n01adc5_8    0.5  0.5\n01adc5_9    0.5  0.5\n\n[64 rows x 2 columns]",
      "text/html": "<div>\n<style scoped>\n    .dataframe tbody tr th:only-of-type {\n        vertical-align: middle;\n    }\n\n    .dataframe tbody tr th {\n        vertical-align: top;\n    }\n\n    .dataframe thead th {\n        text-align: right;\n    }\n</style>\n<table border=\"1\" class=\"dataframe\">\n  <thead>\n    <tr style=\"text-align: right;\">\n      <th></th>\n      <th>CE</th>\n      <th>LAA</th>\n    </tr>\n    <tr>\n      <th>patient_id</th>\n      <th></th>\n      <th></th>\n    </tr>\n  </thead>\n  <tbody>\n    <tr>\n      <th>006388_0</th>\n      <td>0.5</td>\n      <td>0.5</td>\n    </tr>\n    <tr>\n      <th>006388_1</th>\n      <td>0.5</td>\n      <td>0.5</td>\n    </tr>\n    <tr>\n      <th>006388_10</th>\n      <td>0.5</td>\n      <td>0.5</td>\n    </tr>\n    <tr>\n      <th>006388_11</th>\n      <td>0.5</td>\n      <td>0.5</td>\n    </tr>\n    <tr>\n      <th>006388_12</th>\n      <td>0.5</td>\n      <td>0.5</td>\n    </tr>\n    <tr>\n      <th>...</th>\n      <td>...</td>\n      <td>...</td>\n    </tr>\n    <tr>\n      <th>01adc5_5</th>\n      <td>0.5</td>\n      <td>0.5</td>\n    </tr>\n    <tr>\n      <th>01adc5_6</th>\n      <td>0.5</td>\n      <td>0.5</td>\n    </tr>\n    <tr>\n      <th>01adc5_7</th>\n      <td>0.5</td>\n      <td>0.5</td>\n    </tr>\n    <tr>\n      <th>01adc5_8</th>\n      <td>0.5</td>\n      <td>0.5</td>\n    </tr>\n    <tr>\n      <th>01adc5_9</th>\n      <td>0.5</td>\n      <td>0.5</td>\n    </tr>\n  </tbody>\n</table>\n<p>64 rows × 2 columns</p>\n</div>"
     },
     "execution_count": 59,
     "metadata": {},
     "output_type": "execute_result"
    }
   ],
   "source": [
    "df_concat = df_concat.groupby('patient_id').mean()\n",
    "df_concat"
   ],
   "metadata": {
    "collapsed": false,
    "pycharm": {
     "name": "#%%\n"
    }
   }
  },
  {
   "cell_type": "code",
   "execution_count": 73,
   "outputs": [
    {
     "name": "stdout",
     "output_type": "stream",
     "text": [
      "['convit_base', 'convit_small', 'convit_tiny']\n"
     ]
    }
   ],
   "source": [
    "import timm\n",
    "from pprint import pprint\n",
    "model_names = timm.list_models('*Con*')\n",
    "pprint(model_names)"
   ],
   "metadata": {
    "collapsed": false,
    "pycharm": {
     "name": "#%%\n"
    }
   }
  },
  {
   "cell_type": "code",
   "execution_count": 22,
   "outputs": [
    {
     "name": "stdout",
     "output_type": "stream",
     "text": [
      "  patient_id        CE       LAA\n",
      "0     006388  0.965979  0.034021\n",
      "1     008e5c  0.950975  0.049025\n",
      "2     00c058  0.008934  0.991066\n",
      "3     01adc5  0.979125  0.020875\n",
      "             CE  LAA\n",
      "patient_id          \n",
      "006388      0.6  0.4\n",
      "008e5c      0.6  0.4\n",
      "00c058      0.4  0.6\n",
      "01adc5      0.6  0.4\n"
     ]
    },
    {
     "data": {
      "text/plain": "Index(['006388', '008e5c', '01adc5'], dtype='object', name='patient_id')"
     },
     "execution_count": 22,
     "metadata": {},
     "output_type": "execute_result"
    }
   ],
   "source": [
    "sub_df = pd.read_csv('../input/mayo-clinic-strip-ai/sample_submission.csv')\n",
    "\n",
    "# print(sub_df.columns)\n",
    "sub = pd.DataFrame(columns=sub_df.columns)\n",
    "for i in [1]:\n",
    "    single = pd.read_csv(f\"submission{i}.csv\")\n",
    "    sub = pd.concat([sub,single])\n",
    "    # print(sub)\n",
    "print(sub)\n",
    "\n",
    "sub = sub.groupby('patient_id').mean()\n",
    "idx = sub.query('CE>0.5').index\n",
    "idx2 = sub.query('LAA>0.5').index\n",
    "\n",
    "sub.loc[idx,'CE'] = 0.6\n",
    "sub.loc[idx,'LAA'] = 0.4\n",
    "sub.loc[idx2,'CE'] = 0.4\n",
    "sub.loc[idx2,'LAA'] = 0.6\n",
    "\n",
    "\n",
    "print(sub)\n",
    "idx\n",
    "#\n",
    "# sub_df['CE'] = sub['CE'].values\n",
    "# sub_df['LAA'] = sub['LAA'].values\n",
    "# print(sub_df)"
   ],
   "metadata": {
    "collapsed": false,
    "pycharm": {
     "name": "#%%\n"
    }
   }
  },
  {
   "cell_type": "markdown",
   "source": [
    "下面两个是做tile预测的"
   ],
   "metadata": {
    "collapsed": false
   }
  },
  {
   "cell_type": "code",
   "execution_count": 1,
   "outputs": [],
   "source": [
    "import gc\n",
    "import cv2\n",
    "import copy\n",
    "import time\n",
    "import torch\n",
    "import random\n",
    "import string\n",
    "import joblib\n",
    "import tifffile\n",
    "import numpy as np\n",
    "import pandas as pd\n",
    "import torch.nn as nn\n",
    "import seaborn as sns\n",
    "from random import randint\n",
    "from einops import rearrange\n",
    "from torchvision import models\n",
    "from tqdm.notebook import tqdm\n",
    "import matplotlib.pyplot as plt\n",
    "from torch.optim import lr_scheduler\n",
    "from einops.layers.torch import Rearrange\n",
    "from efficientnet_pytorch import EfficientNet\n",
    "from torch.utils.data import Dataset, DataLoader\n",
    "\n",
    "test_df = pd.read_csv(\"../input/mayo-clinic-strip-ai/test.csv\")\n",
    "tiled_img = []\n",
    "for i in range(16):\n",
    "    for arr in test_df.sort_values(['image_id','center_id','patient_id','image_num']).values:\n",
    "        tiled_img.append([arr[0]+f'_{i}', arr[1], arr[2], arr[3]])\n",
    "\n",
    "df = pd.DataFrame(columns=['image_id','center_id','patient_id','image_num'])\n",
    "df = pd.concat([df,pd.DataFrame(tiled_img,columns=df.columns)])\n",
    "\n",
    "\n",
    "class ImgDataset(Dataset):\n",
    "    def __init__(self, df, transform=None):\n",
    "        self.df = df\n",
    "        self.transform = transform\n",
    "\n",
    "\n",
    "    def __len__(self):\n",
    "        return len(self.df)\n",
    "\n",
    "    def __getitem__(self, index):\n",
    "        paths = \"../input/mayo-train-images-size1024-n16/test/\"\n",
    "        try:\n",
    "            image = cv2.imread(paths + self.df.iloc[index].image_id + \".jpg\")\n",
    "        except:\n",
    "            image = np.zeros((512,512,3), np.uint8)\n",
    "        label = 0\n",
    "        try:\n",
    "            if len(image.shape) == 5:\n",
    "                image = image.squeeze().transpose(1, 2, 0)\n",
    "            if self.transform is not None:\n",
    "                image = self.transform(image=image)[\"image\"]\n",
    "        except:\n",
    "            image = np.zeros((3, 512, 512))\n",
    "        patient_id = self.df.iloc[index].patient_id\n",
    "        return image, patient_id\n",
    "\n",
    "\n",
    "def predict(model, dataloader):\n",
    "    model.cuda()\n",
    "    model.eval()\n",
    "    dataloader = dataloader\n",
    "    outputs = []\n",
    "    s = nn.Softmax(dim=1)\n",
    "    ids = []\n",
    "    with torch.no_grad():\n",
    "\n",
    "        for item in tqdm(dataloader, leave=False):\n",
    "            patient_id = item[1][0]\n",
    "            ids.append(patient_id)\n",
    "            print(f'-----------------id:{patient_id}-----------------')\n",
    "            try:\n",
    "                images = item[0].cuda().float()\n",
    "#                 output = model(images)\n",
    "#                 print(images.shape)\n",
    "#                 print(images.flip(-1).flip(-2))\n",
    "\n",
    "                output = model(images)\n",
    "#                 output = model(images) + model(images.flip(-1)) + model(images.flip(-2)) + model(images.flip(-2).flip(-1))\n",
    "#                 output = output/4\n",
    "                print(output)\n",
    "                outputs.append(s(output.cpu()[:,:2])[0].detach().numpy())\n",
    "            except:\n",
    "                outputs.append(s(torch.tensor([[1, 1]]).float())[0].detach().numpy())\n",
    "                print('!!!!!!!!!!!!!!except occur on predict !!!!!!!!!!!!!!')\n",
    "        print(outputs)\n",
    "    return np.array(outputs), ids\n",
    "\n"
   ],
   "metadata": {
    "collapsed": false,
    "pycharm": {
     "name": "#%%\n"
    }
   }
  },
  {
   "cell_type": "markdown",
   "source": [],
   "metadata": {
    "collapsed": false
   }
  },
  {
   "cell_type": "code",
   "execution_count": 3,
   "outputs": [
    {
     "data": {
      "text/plain": "  0%|          | 0/64 [00:00<?, ?it/s]",
      "application/vnd.jupyter.widget-view+json": {
       "version_major": 2,
       "version_minor": 0,
       "model_id": "c04bd316e45c406297acb8925badc599"
      }
     },
     "metadata": {},
     "output_type": "display_data"
    },
    {
     "name": "stdout",
     "output_type": "stream",
     "text": [
      "-----------------id:006388-----------------\n",
      "tensor([[ 0.0752, -0.1442]], device='cuda:0')\n",
      "-----------------id:008e5c-----------------\n",
      "tensor([[ 0.8084, -0.9188]], device='cuda:0')\n",
      "-----------------id:00c058-----------------\n",
      "tensor([[ 2.9419, -3.5244]], device='cuda:0')\n",
      "-----------------id:01adc5-----------------\n",
      "tensor([[ 0.9811, -1.1265]], device='cuda:0')\n",
      "-----------------id:006388-----------------\n",
      "tensor([[ 0.2937, -0.3328]], device='cuda:0')\n",
      "-----------------id:008e5c-----------------\n",
      "tensor([[ 1.0819, -1.2279]], device='cuda:0')\n",
      "-----------------id:00c058-----------------\n",
      "tensor([[ 1.7812, -2.1214]], device='cuda:0')\n",
      "-----------------id:01adc5-----------------\n",
      "tensor([[ 0.7894, -0.8970]], device='cuda:0')\n",
      "-----------------id:006388-----------------\n",
      "tensor([[ 0.4229, -0.4731]], device='cuda:0')\n",
      "-----------------id:008e5c-----------------\n",
      "tensor([[ 0.6325, -0.7186]], device='cuda:0')\n",
      "-----------------id:00c058-----------------\n",
      "tensor([[ 2.3684, -2.8955]], device='cuda:0')\n",
      "-----------------id:01adc5-----------------\n",
      "tensor([[ 0.8097, -0.9298]], device='cuda:0')\n",
      "-----------------id:006388-----------------\n",
      "tensor([[ 0.6293, -0.6983]], device='cuda:0')\n",
      "-----------------id:008e5c-----------------\n",
      "tensor([[ 0.7848, -0.8926]], device='cuda:0')\n",
      "-----------------id:00c058-----------------\n",
      "tensor([[ 1.7812, -2.1133]], device='cuda:0')\n",
      "-----------------id:01adc5-----------------\n",
      "tensor([[ 0.7838, -0.8945]], device='cuda:0')\n",
      "-----------------id:006388-----------------\n",
      "tensor([[ 0.3367, -0.3772]], device='cuda:0')\n",
      "-----------------id:008e5c-----------------\n",
      "tensor([[ 0.6979, -0.7943]], device='cuda:0')\n",
      "-----------------id:00c058-----------------\n",
      "tensor([[ 1.9856, -2.3957]], device='cuda:0')\n",
      "-----------------id:01adc5-----------------\n",
      "tensor([[ 0.3875, -0.4366]], device='cuda:0')\n",
      "-----------------id:006388-----------------\n",
      "tensor([[ 0.7308, -0.8276]], device='cuda:0')\n",
      "-----------------id:008e5c-----------------\n",
      "tensor([[ 0.8294, -0.9517]], device='cuda:0')\n",
      "-----------------id:00c058-----------------\n",
      "tensor([[ 1.9551, -2.3578]], device='cuda:0')\n",
      "-----------------id:01adc5-----------------\n",
      "tensor([[ 0.6448, -0.7399]], device='cuda:0')\n",
      "-----------------id:006388-----------------\n",
      "tensor([[ 0.7567, -0.8406]], device='cuda:0')\n",
      "-----------------id:008e5c-----------------\n",
      "tensor([[ 0.7925, -0.9099]], device='cuda:0')\n",
      "-----------------id:00c058-----------------\n",
      "tensor([[ 1.8982, -2.3462]], device='cuda:0')\n",
      "-----------------id:01adc5-----------------\n",
      "tensor([[ 0.3694, -0.4311]], device='cuda:0')\n",
      "-----------------id:006388-----------------\n",
      "tensor([[ 0.9405, -1.0636]], device='cuda:0')\n",
      "-----------------id:008e5c-----------------\n",
      "tensor([[ 0.7158, -0.8174]], device='cuda:0')\n",
      "-----------------id:00c058-----------------\n",
      "tensor([[ 1.4238, -1.7658]], device='cuda:0')\n",
      "-----------------id:01adc5-----------------\n",
      "tensor([[ 0.4278, -0.4970]], device='cuda:0')\n",
      "-----------------id:006388-----------------\n",
      "tensor([[ 0.2547, -0.3098]], device='cuda:0')\n",
      "-----------------id:008e5c-----------------\n",
      "tensor([[ 0.5494, -0.6375]], device='cuda:0')\n",
      "-----------------id:00c058-----------------\n",
      "tensor([[ 1.5442, -1.9063]], device='cuda:0')\n",
      "-----------------id:01adc5-----------------\n",
      "tensor([[ 0.5066, -0.5817]], device='cuda:0')\n",
      "-----------------id:006388-----------------\n",
      "tensor([[ 0.3784, -0.4434]], device='cuda:0')\n",
      "-----------------id:008e5c-----------------\n",
      "tensor([[ 0.5272, -0.6178]], device='cuda:0')\n",
      "-----------------id:00c058-----------------\n",
      "tensor([[ 1.2704, -1.5786]], device='cuda:0')\n",
      "-----------------id:01adc5-----------------\n",
      "tensor([[ 0.3822, -0.4337]], device='cuda:0')\n",
      "-----------------id:006388-----------------\n",
      "tensor([[ 0.3755, -0.4529]], device='cuda:0')\n",
      "-----------------id:008e5c-----------------\n",
      "tensor([[ 0.5603, -0.6579]], device='cuda:0')\n",
      "-----------------id:00c058-----------------\n",
      "tensor([[ 1.4854, -1.8445]], device='cuda:0')\n",
      "-----------------id:01adc5-----------------\n",
      "tensor([[ 0.3030, -0.3526]], device='cuda:0')\n",
      "-----------------id:006388-----------------\n",
      "tensor([[ 0.3681, -0.4328]], device='cuda:0')\n",
      "-----------------id:008e5c-----------------\n",
      "tensor([[ 0.4752, -0.5588]], device='cuda:0')\n",
      "-----------------id:00c058-----------------\n",
      "tensor([[ 1.1650, -1.4379]], device='cuda:0')\n",
      "-----------------id:01adc5-----------------\n",
      "tensor([[ 0.6557, -0.7529]], device='cuda:0')\n",
      "-----------------id:006388-----------------\n",
      "tensor([[ 0.3936, -0.4540]], device='cuda:0')\n",
      "-----------------id:008e5c-----------------\n",
      "tensor([[ 0.4894, -0.5793]], device='cuda:0')\n",
      "-----------------id:00c058-----------------\n",
      "tensor([[ 1.3786, -1.6609]], device='cuda:0')\n",
      "-----------------id:01adc5-----------------\n",
      "tensor([[ 0.4272, -0.4919]], device='cuda:0')\n",
      "-----------------id:006388-----------------\n",
      "tensor([[ 0.3663, -0.4235]], device='cuda:0')\n",
      "-----------------id:008e5c-----------------\n",
      "tensor([[ 0.4634, -0.5514]], device='cuda:0')\n",
      "-----------------id:00c058-----------------\n",
      "tensor([[ 1.4878, -1.8664]], device='cuda:0')\n",
      "-----------------id:01adc5-----------------\n",
      "tensor([[ 0.5098, -0.5893]], device='cuda:0')\n",
      "-----------------id:006388-----------------\n",
      "tensor([[ 0.2253, -0.2672]], device='cuda:0')\n",
      "-----------------id:008e5c-----------------\n",
      "tensor([[ 0.4955, -0.5762]], device='cuda:0')\n",
      "-----------------id:00c058-----------------\n",
      "tensor([[ 1.2784, -1.5721]], device='cuda:0')\n",
      "-----------------id:01adc5-----------------\n",
      "tensor([[ 0.2508, -0.2897]], device='cuda:0')\n",
      "-----------------id:006388-----------------\n",
      "tensor([[ 0.3056, -0.3750]], device='cuda:0')\n",
      "-----------------id:008e5c-----------------\n",
      "tensor([[ 0.4595, -0.5406]], device='cuda:0')\n",
      "-----------------id:00c058-----------------\n",
      "tensor([[ 1.3360, -1.6453]], device='cuda:0')\n",
      "-----------------id:01adc5-----------------\n",
      "tensor([[ 0.1452, -0.1797]], device='cuda:0')\n",
      "[array([0.55462587, 0.44537407], dtype=float32), array([0.8490517 , 0.15094832], dtype=float32), array([0.9984475 , 0.00155255], dtype=float32), array([0.8916429 , 0.10835703], dtype=float32), array([0.6516966, 0.3483033], dtype=float32), array([0.9096875 , 0.09031251], dtype=float32), array([0.98020935, 0.01979069], dtype=float32), array([0.8437472 , 0.15625277], dtype=float32), array([0.71012175, 0.28987825], dtype=float32), array([0.7943006 , 0.20569941], dtype=float32), array([0.9948515 , 0.00514852], dtype=float32), array([0.8506168 , 0.14938319], dtype=float32), array([0.79043317, 0.20956683], dtype=float32), array([0.8425627 , 0.15743737], dtype=float32), array([0.98005223, 0.01994774], dtype=float32), array([0.8426856 , 0.15731445], dtype=float32), array([0.67126894, 0.32873106], dtype=float32), array([0.8164016 , 0.18359846], dtype=float32), array([0.98764604, 0.01235401], dtype=float32), array([0.6951232, 0.3048768], dtype=float32), array([0.8261249 , 0.17387508], dtype=float32), array([0.85582924, 0.14417079], dtype=float32), array([0.98678315, 0.01321691], dtype=float32), array([0.799734  , 0.20026605], dtype=float32), array([0.83163166, 0.16836832], dtype=float32), array([0.84583855, 0.15416142], dtype=float32), array([0.9858585 , 0.01414147], dtype=float32), array([0.6900798, 0.3099202], dtype=float32), array([0.88123274, 0.11876719], dtype=float32), array([0.82247037, 0.17752966], dtype=float32), array([0.9604394, 0.0395606], dtype=float32), array([0.71603215, 0.28396782], dtype=float32), array([0.6375016 , 0.36249846], dtype=float32), array([0.766201  , 0.23379898], dtype=float32), array([0.9692469 , 0.03075306], dtype=float32), array([0.74804974, 0.2519503 ], dtype=float32), array([0.6946096 , 0.30539045], dtype=float32), array([0.75859135, 0.24140859], dtype=float32), array([0.9452694 , 0.05473056], dtype=float32), array([0.69336784, 0.3066322 ], dtype=float32), array([0.6960108 , 0.30398914], dtype=float32), array([0.77175295, 0.22824708], dtype=float32), array([0.965442  , 0.03455797], dtype=float32), array([0.65826964, 0.3417303 ], dtype=float32), array([0.69017357, 0.30982643], dtype=float32), array([0.7376909 , 0.26230913], dtype=float32), array([0.9310441 , 0.06895587], dtype=float32), array([0.80354786, 0.19645213], dtype=float32), array([0.7000533, 0.2999467], dtype=float32), array([0.74434954, 0.2556505 ], dtype=float32), array([0.9543308 , 0.04566916], dtype=float32), array([0.7148598 , 0.28514025], dtype=float32), array([0.68778336, 0.31221664], dtype=float32), array([0.73395395, 0.26604602], dtype=float32), array([0.9662446 , 0.03375538], dtype=float32), array([0.75008285, 0.24991715], dtype=float32), array([0.6207142 , 0.37928578], dtype=float32), array([0.7449197 , 0.25508025], dtype=float32), array([0.9453399 , 0.05466008], dtype=float32), array([0.63192374, 0.36807626], dtype=float32), array([0.663889  , 0.33611104], dtype=float32), array([0.73107636, 0.26892358], dtype=float32), array([0.9517233 , 0.04827666], dtype=float32), array([0.58053076, 0.4194692 ], dtype=float32)]\n"
     ]
    }
   ],
   "source": [
    "import timm\n",
    "model = torch.jit.load(r'W:\\PycharmProjects\\kaggle-MC\\work\\ckpt-tile\\coat_fold99_epoch2_0.6651.pth')\n",
    "\n",
    "#     #\n",
    "# model = timm.create_model(\"resnet18\",\n",
    "#                           num_classes=2,\n",
    "#                           in_chans=3,\n",
    "#                           pretrained=True)\n",
    "model.cuda()\n",
    "model.eval()\n",
    "\n",
    "\n",
    "batch_size = 1\n",
    "import albumentations as A\n",
    "from albumentations.pytorch import ToTensorV2\n",
    "\n",
    "test_loader = DataLoader(\n",
    "    ImgDataset(df,\n",
    "            A.Compose([\n",
    "                A.Resize(512, 512),\n",
    "                A.Normalize(mean=(0.485, 0.456, 0.406), std=(0.229, 0.224, 0.225)),\n",
    "                ToTensorV2(),\n",
    "                ])\n",
    "              ),\n",
    "    batch_size=batch_size,\n",
    "    shuffle=False,\n",
    "    num_workers=0\n",
    ")\n",
    "\n",
    "anss, ids = predict(model, test_loader)\n",
    "prob = pd.DataFrame({\"CE\" : anss[:,0], \"LAA\" : anss[:,1], \"id\" : ids}).groupby(\"id\").mean()\n",
    "submission = pd.read_csv(\"../input/mayo-clinic-strip-ai/sample_submission.csv\")\n",
    "submission.CE = prob.CE.to_list()\n",
    "submission.LAA = prob.LAA.to_list()\n",
    "submission.to_csv(f\"submission{i}.csv\", index = False)\n",
    "i +=1"
   ],
   "metadata": {
    "collapsed": false,
    "pycharm": {
     "name": "#%%\n"
    }
   }
  },
  {
   "cell_type": "code",
   "execution_count": 11,
   "outputs": [
    {
     "data": {
      "text/plain": "<function torch.cuda.memory.empty_cache() -> None>"
     },
     "execution_count": 11,
     "metadata": {},
     "output_type": "execute_result"
    }
   ],
   "source": [
    "torch.cuda.empty_cache"
   ],
   "metadata": {
    "collapsed": false,
    "pycharm": {
     "name": "#%%\n"
    }
   }
  },
  {
   "cell_type": "code",
   "execution_count": 5,
   "outputs": [
    {
     "name": "stderr",
     "output_type": "stream",
     "text": [
      "                                             \r"
     ]
    },
    {
     "data": {
      "text/plain": "              CE       LAA\nid                        \n006388  0.609391  0.390609\n008e5c  0.548586  0.451414\n00c058  0.592479  0.407522\n01adc5  0.414521  0.585479",
      "text/html": "<div>\n<style scoped>\n    .dataframe tbody tr th:only-of-type {\n        vertical-align: middle;\n    }\n\n    .dataframe tbody tr th {\n        vertical-align: top;\n    }\n\n    .dataframe thead th {\n        text-align: right;\n    }\n</style>\n<table border=\"1\" class=\"dataframe\">\n  <thead>\n    <tr style=\"text-align: right;\">\n      <th></th>\n      <th>CE</th>\n      <th>LAA</th>\n    </tr>\n    <tr>\n      <th>id</th>\n      <th></th>\n      <th></th>\n    </tr>\n  </thead>\n  <tbody>\n    <tr>\n      <th>006388</th>\n      <td>0.609391</td>\n      <td>0.390609</td>\n    </tr>\n    <tr>\n      <th>008e5c</th>\n      <td>0.548586</td>\n      <td>0.451414</td>\n    </tr>\n    <tr>\n      <th>00c058</th>\n      <td>0.592479</td>\n      <td>0.407522</td>\n    </tr>\n    <tr>\n      <th>01adc5</th>\n      <td>0.414521</td>\n      <td>0.585479</td>\n    </tr>\n  </tbody>\n</table>\n</div>"
     },
     "execution_count": 5,
     "metadata": {},
     "output_type": "execute_result"
    }
   ],
   "source": [
    "import cv2\n",
    "import numpy as np\n",
    "import pandas as pd\n",
    "import torch\n",
    "from torch import nn\n",
    "from torch.utils.data import Dataset, DataLoader\n",
    "from tqdm import tqdm\n",
    "generate_new = False\n",
    "test_df = pd.read_csv(\"../input/mayo-clinic-strip-ai/test.csv\")\n",
    "class ImgDataset(Dataset):\n",
    "    def __init__(self, df):\n",
    "        self.df = df\n",
    "        self.train = 'label' in df.columns\n",
    "    def __len__(self):\n",
    "        return len(self.df)\n",
    "\n",
    "    def __getitem__(self, index):\n",
    "        if(generate_new):\n",
    "            paths = [\"../test/\", \"../train/\"]\n",
    "        else:\n",
    "            paths = [\"../input/jpg-images-strip-ai/test/\", \"../input/jpg-images-strip-ai/train/\"]\n",
    "        try:\n",
    "            image = cv2.imread(paths[self.train] + self.df.iloc[index].image_id + \".jpg\")\n",
    "        except:\n",
    "            image = np.zeros((512,512,3), np.uint8)\n",
    "        label = 0\n",
    "        try:\n",
    "            if len(image.shape) == 5:\n",
    "                image = image.squeeze().transpose(1, 2, 0)\n",
    "            image = cv2.resize(image, (512, 512)).transpose(2, 0, 1)\n",
    "        except:\n",
    "            image = np.zeros((3, 512, 512))\n",
    "        if(self.train):\n",
    "            label = {\"CE\" : 0, \"LAA\": 1}[self.df.iloc[index].label]\n",
    "        patient_id = self.df.iloc[index].patient_id\n",
    "        return image, label, patient_id\n",
    "def predict(model, dataloader):\n",
    "    model.cuda()\n",
    "    model.eval()\n",
    "    dataloader = dataloader\n",
    "    outputs = []\n",
    "    s = nn.Softmax(dim=1)\n",
    "    ids = []\n",
    "    for item in tqdm(dataloader, leave=False):\n",
    "        patient_id = item[2][0]\n",
    "        try:\n",
    "            images = item[0].cuda().float()\n",
    "            ids.append(patient_id)\n",
    "            output = model(images) + model(images.flip(-1)) + model(images.flip(-2)) + model(images.flip(-2).flip(-1))\n",
    "            output = output/4\n",
    "            outputs.append(s(output.cpu()[:,:2])[0].detach().numpy())\n",
    "        except:\n",
    "            ids.append(patient_id)\n",
    "            outputs.append(s(torch.tensor([[1, 1]]).float())[0].detach().numpy())\n",
    "    return np.array(outputs), ids\n",
    "model = torch.jit.load('./ckpt/finetune_fold0.pth')\n",
    "# model = torch.jit.load('./ckpt/model_ori.pth')\n",
    "batch_size = 1\n",
    "test_loader = DataLoader(\n",
    "    ImgDataset(test_df),\n",
    "    batch_size=batch_size,\n",
    "    shuffle=False,\n",
    "    num_workers=0\n",
    ")\n",
    "\n",
    "anss, ids = predict(model, test_loader)\n",
    "prob = pd.DataFrame({\"CE\" : anss[:,0], \"LAA\" : anss[:,1], \"id\" : ids}).groupby(\"id\").mean()\n",
    "prob"
   ],
   "metadata": {
    "collapsed": false,
    "pycharm": {
     "name": "#%%\n"
    }
   }
  }
 ],
 "metadata": {
  "kernelspec": {
   "display_name": "Python 3",
   "language": "python",
   "name": "python3"
  },
  "language_info": {
   "codemirror_mode": {
    "name": "ipython",
    "version": 2
   },
   "file_extension": ".py",
   "mimetype": "text/x-python",
   "name": "python",
   "nbconvert_exporter": "python",
   "pygments_lexer": "ipython2",
   "version": "2.7.6"
  }
 },
 "nbformat": 4,
 "nbformat_minor": 0
}